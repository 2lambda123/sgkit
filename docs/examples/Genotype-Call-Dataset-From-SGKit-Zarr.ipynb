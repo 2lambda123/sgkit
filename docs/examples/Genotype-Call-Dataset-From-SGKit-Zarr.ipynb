{
 "cells": [
  {
   "cell_type": "markdown",
   "metadata": {},
   "source": [
    "# Understanding the Genotype Call XArray DataSet - From Malaria Gen Zarr\n",
    "\n",
    "A central point to the SGkit API is the Genotype Call Dataset. This is the data structure that most of the other functions use. It uses [Xarray](http://xarray.pydata.org/en/stable/) underneath the hood to give a programmatic interface that allows for the backend to be several different data files.\n",
    "\n",
    "The Xarray itself is *sort of* a transposed VCF file.\n",
    "\n",
    "For this example we are going to from the preprocessed zarr to the sgkit Genotype Call XArray Dataset.\n",
    "\n",
    "This is only meant to demonstrate the datatypes that we feed into the Xarray dataset. For a more conceptual understanding please check out the `Genotype-Call-Dataset-From-VCF.ipynb`."
   ]
  },
  {
   "cell_type": "code",
   "execution_count": 1,
   "metadata": {},
   "outputs": [],
   "source": [
    "import numpy as np\n",
    "import zarr\n",
    "import pandas as pd\n",
    "import dask.array as da\n",
    "import allel\n",
    "from pprint import pprint\n",
    "import matplotlib.pyplot as plt\n",
    "%matplotlib inline"
   ]
  },
  {
   "cell_type": "markdown",
   "metadata": {},
   "source": [
    "## Create a Dask Cluster\n",
    "\n",
    "This isn't that important for this example, but SGkit can use Dask under the hood for many of it's calculations. Divide and conquer your statistical genomics data!"
   ]
  },
  {
   "cell_type": "code",
   "execution_count": 2,
   "metadata": {},
   "outputs": [
    {
     "data": {
      "application/vnd.jupyter.widget-view+json": {
       "model_id": "e251db774f2f40f8acf1fcce8bf46df4",
       "version_major": 2,
       "version_minor": 0
      },
      "text/plain": [
       "VBox(children=(HTML(value='<h2>KubeCluster</h2>'), HBox(children=(HTML(value='\\n<div>\\n  <style scoped>\\n    .…"
      ]
     },
     "metadata": {},
     "output_type": "display_data"
    }
   ],
   "source": [
    "from dask_kubernetes import KubeCluster\n",
    "cluster = KubeCluster(n_workers=30, silence_logs='error')\n",
    "cluster"
   ]
  },
  {
   "cell_type": "markdown",
   "metadata": {},
   "source": [
    "## Get the Malaria Gen Zarr Data"
   ]
  },
  {
   "cell_type": "markdown",
   "metadata": {},
   "source": [
    "The [zarr](https://zarr.readthedocs.io/en/stable) data is hosted in a google cloud bucket, or available for download from the public FTP site."
   ]
  },
  {
   "cell_type": "code",
   "execution_count": 3,
   "metadata": {},
   "outputs": [],
   "source": [
    "import gcsfs\n",
    "\n",
    "gcs_bucket_fs = gcsfs.GCSFileSystem(project='malariagen-jupyterhub', token='anon', access='read_only')\n",
    "\n",
    "storage_path = 'ag1000g-release/phase2.AR1/variation/main/zarr/pass/ag1000g.phase2.ar1.pass'\n",
    "store = gcsfs.mapping.GCSMap(storage_path, gcs=gcs_bucket_fs, check=False, create=False)\n",
    "callset = zarr.Group(store)"
   ]
  },
  {
   "cell_type": "markdown",
   "metadata": {},
   "source": [
    "If you explore the zarr data you will see that it is mostly the VCF data, with a few fields pre calculated for convenience."
   ]
  },
  {
   "cell_type": "code",
   "execution_count": 4,
   "metadata": {},
   "outputs": [
    {
     "name": "stdout",
     "output_type": "stream",
     "text": [
      "<zarr.core.Array '/samples' (1142,) object>\n"
     ]
    }
   ],
   "source": [
    "print(callset['samples'])"
   ]
  },
  {
   "cell_type": "code",
   "execution_count": 5,
   "metadata": {},
   "outputs": [
    {
     "name": "stdout",
     "output_type": "stream",
     "text": [
      "3R\n",
      " ├── calldata\n",
      " │   └── GT (14481509, 1142, 2) int8\n",
      " ├── samples (1142,) object\n",
      " └── variants\n",
      "     ├── ABHet (14481509,) float32\n",
      "     ├── ABHom (14481509,) float32\n",
      "     ├── AC (14481509, 3) int32\n",
      "     ├── AF (14481509, 3) float32\n",
      "     ├── ALT (14481509, 3) |S1\n",
      "     ├── AN (14481509,) int32\n",
      "     ├── Accessible (14481509,) bool\n",
      "     ├── BaseCounts (14481509, 4) int32\n",
      "     ├── BaseQRankSum (14481509,) float32\n",
      "     ├── Coverage (14481509,) int32\n",
      "     ├── CoverageMQ0 (14481509,) int32\n",
      "     ├── DP (14481509,) int32\n",
      "     ├── DS (14481509,) bool\n",
      "     ├── Dels (14481509,) float32\n",
      "     ├── FILTER_BaseQRankSum (14481509,) bool\n",
      "     ├── FILTER_FS (14481509,) bool\n",
      "     ├── FILTER_HRun (14481509,) bool\n",
      "     ├── FILTER_HighCoverage (14481509,) bool\n",
      "     ├── FILTER_HighMQ0 (14481509,) bool\n",
      "     ├── FILTER_LowCoverage (14481509,) bool\n",
      "     ├── FILTER_LowMQ (14481509,) bool\n",
      "     ├── FILTER_LowQual (14481509,) bool\n",
      "     ├── FILTER_NoCoverage (14481509,) bool\n",
      "     ├── FILTER_PASS (14481509,) bool\n",
      "     ├── FILTER_QD (14481509,) bool\n",
      "     ├── FILTER_ReadPosRankSum (14481509,) bool\n",
      "     ├── FILTER_RefN (14481509,) bool\n",
      "     ├── FILTER_RepeatDUST (14481509,) bool\n",
      "     ├── FS (14481509,) float32\n",
      "     ├── HRun (14481509,) int32\n",
      "     ├── HW (14481509,) float32\n",
      "     ├── HaplotypeScore (14481509,) float32\n",
      "     ├── HighCoverage (14481509,) int32\n",
      "     ├── HighMQ0 (14481509,) int32\n",
      "     ├── InbreedingCoeff (14481509,) float32\n",
      "     ├── LowCoverage (14481509,) int32\n",
      "     ├── LowMQ (14481509,) int32\n",
      "     ├── LowPairing (14481509,) int32\n",
      "     ├── MLEAC (14481509, 3) int32\n",
      "     ├── MLEAF (14481509, 3) float32\n",
      "     ├── MQ (14481509,) float32\n",
      "     ├── MQ0 (14481509,) int32\n",
      "     ├── MQRankSum (14481509,) float32\n",
      "     ├── NDA (14481509,) int32\n",
      "     ├── NoCoverage (14481509,) int32\n",
      "     ├── OND (14481509,) float32\n",
      "     ├── POS (14481509,) int32\n",
      "     ├── QD (14481509,) float32\n",
      "     ├── QUAL (14481509,) float32\n",
      "     ├── REF (14481509,) |S1\n",
      "     ├── RPA (14481509,) int32\n",
      "     ├── RU (14481509,) object\n",
      "     ├── ReadPosRankSum (14481509,) float32\n",
      "     ├── RefMasked (14481509,) bool\n",
      "     ├── RefN (14481509,) bool\n",
      "     ├── RepeatDUST (14481509,) bool\n",
      "     ├── RepeatMasker (14481509,) bool\n",
      "     ├── RepeatTRF (14481509,) bool\n",
      "     ├── STR (14481509,) bool\n",
      "     ├── VariantType (14481509,) object\n",
      "     ├── altlen (14481509, 3) int32\n",
      "     ├── is_snp (14481509,) bool\n",
      "     └── numalt (14481509,) int32\n"
     ]
    }
   ],
   "source": [
    "chrom = '3R'\n",
    "print(callset[chrom].tree())"
   ]
  },
  {
   "cell_type": "markdown",
   "metadata": {},
   "source": [
    "## Get the Call Data"
   ]
  },
  {
   "cell_type": "code",
   "execution_count": 6,
   "metadata": {},
   "outputs": [
    {
     "data": {
      "text/html": [
       "<div class=\"allel allel-DisplayAs2D\"><span>&lt;GenotypeChunkedArray shape=(14481509, 1142, 2) dtype=int8 chunks=(524288, 61, 2)\n",
       "   nbytes=30.8G cbytes=-1 cratio=-33075766556.0\n",
       "   compression=blosc compression_opts={'cname': 'zstd', 'clevel': 1, 'shuffle': -1, 'blocksize': 0}\n",
       "   values=zarr.core.Array&gt;</span><table><thead><tr><th></th><th style=\"text-align: center\">0</th><th style=\"text-align: center\">1</th><th style=\"text-align: center\">2</th><th style=\"text-align: center\">3</th><th style=\"text-align: center\">4</th><th style=\"text-align: center\">...</th><th style=\"text-align: center\">1137</th><th style=\"text-align: center\">1138</th><th style=\"text-align: center\">1139</th><th style=\"text-align: center\">1140</th><th style=\"text-align: center\">1141</th></tr></thead><tbody><tr><th style=\"text-align: center; background-color: white; border-right: 1px solid black; \">0</th><td style=\"text-align: center\">0/0</td><td style=\"text-align: center\">0/0</td><td style=\"text-align: center\">0/0</td><td style=\"text-align: center\">0/0</td><td style=\"text-align: center\">0/0</td><td style=\"text-align: center\">...</td><td style=\"text-align: center\">0/0</td><td style=\"text-align: center\">0/0</td><td style=\"text-align: center\">0/0</td><td style=\"text-align: center\">0/0</td><td style=\"text-align: center\">0/0</td></tr><tr><th style=\"text-align: center; background-color: white; border-right: 1px solid black; \">1</th><td style=\"text-align: center\">0/0</td><td style=\"text-align: center\">0/0</td><td style=\"text-align: center\">0/0</td><td style=\"text-align: center\">0/0</td><td style=\"text-align: center\">0/0</td><td style=\"text-align: center\">...</td><td style=\"text-align: center\">0/0</td><td style=\"text-align: center\">0/0</td><td style=\"text-align: center\">0/0</td><td style=\"text-align: center\">0/0</td><td style=\"text-align: center\">0/0</td></tr><tr><th style=\"text-align: center; background-color: white; border-right: 1px solid black; \">2</th><td style=\"text-align: center\">0/0</td><td style=\"text-align: center\">0/0</td><td style=\"text-align: center\">0/0</td><td style=\"text-align: center\">0/0</td><td style=\"text-align: center\">0/0</td><td style=\"text-align: center\">...</td><td style=\"text-align: center\">0/0</td><td style=\"text-align: center\">0/0</td><td style=\"text-align: center\">0/0</td><td style=\"text-align: center\">0/0</td><td style=\"text-align: center\">0/0</td></tr><tr><th style=\"text-align: center; background-color: white; border-right: 1px solid black; \">...</th><td style=\"text-align: center\" colspan=\"12\">...</td></tr><tr><th style=\"text-align: center; background-color: white; border-right: 1px solid black; \">14481506</th><td style=\"text-align: center\">0/0</td><td style=\"text-align: center\">0/0</td><td style=\"text-align: center\">0/0</td><td style=\"text-align: center\">0/0</td><td style=\"text-align: center\">0/0</td><td style=\"text-align: center\">...</td><td style=\"text-align: center\">0/0</td><td style=\"text-align: center\">0/0</td><td style=\"text-align: center\">0/0</td><td style=\"text-align: center\">0/0</td><td style=\"text-align: center\">0/0</td></tr><tr><th style=\"text-align: center; background-color: white; border-right: 1px solid black; \">14481507</th><td style=\"text-align: center\">0/0</td><td style=\"text-align: center\">0/0</td><td style=\"text-align: center\">0/0</td><td style=\"text-align: center\">0/0</td><td style=\"text-align: center\">0/0</td><td style=\"text-align: center\">...</td><td style=\"text-align: center\">0/0</td><td style=\"text-align: center\">0/0</td><td style=\"text-align: center\">0/0</td><td style=\"text-align: center\">0/0</td><td style=\"text-align: center\">0/0</td></tr><tr><th style=\"text-align: center; background-color: white; border-right: 1px solid black; \">14481508</th><td style=\"text-align: center\">0/0</td><td style=\"text-align: center\">0/0</td><td style=\"text-align: center\">0/0</td><td style=\"text-align: center\">0/0</td><td style=\"text-align: center\">0/0</td><td style=\"text-align: center\">...</td><td style=\"text-align: center\">0/0</td><td style=\"text-align: center\">0/0</td><td style=\"text-align: center\">0/0</td><td style=\"text-align: center\">0/0</td><td style=\"text-align: center\">0/0</td></tr></tbody></table></div>"
      ],
      "text/plain": [
       "<GenotypeChunkedArray shape=(14481509, 1142, 2) dtype=int8 chunks=(524288, 61, 2)\n",
       "   nbytes=30.8G cbytes=-1 cratio=-33075766556.0\n",
       "   compression=blosc compression_opts={'cname': 'zstd', 'clevel': 1, 'shuffle': -1, 'blocksize': 0}\n",
       "   values=zarr.core.Array>"
      ]
     },
     "execution_count": 6,
     "metadata": {},
     "output_type": "execute_result"
    }
   ],
   "source": [
    "chrom = '3R'\n",
    "calldata = callset[chrom]['calldata']\n",
    "\n",
    "# TODO Will this be changed for SGKit?\n",
    "genotypes = allel.GenotypeChunkedArray(calldata['GT'])\n",
    "genotypes"
   ]
  },
  {
   "cell_type": "markdown",
   "metadata": {},
   "source": [
    "### Genotype Chunked Array Data Structure\n",
    "\n",
    "When looking at the `allel.GenotypeChunkedArray` we see that we have: GenotypeChunkedArray shape=(14481509, 1142, 2)\n",
    "\n",
    "The shape corresponds to `variants`, `samples`, `alleles`.\n",
    "\n",
    "For every index of a variant we have the alleles of each of the samples.\n",
    "\n",
    "So let's get all the sample data for the first variant."
   ]
  },
  {
   "cell_type": "code",
   "execution_count": 7,
   "metadata": {},
   "outputs": [
    {
     "data": {
      "text/html": [
       "<div class=\"allel allel-DisplayAs1D\"><span>&lt;GenotypeVector shape=(1142, 2) dtype=int8&gt;</span><table><thead><tr><th style=\"text-align: center\">0</th><th style=\"text-align: center\">1</th><th style=\"text-align: center\">2</th><th style=\"text-align: center\">3</th><th style=\"text-align: center\">4</th><th style=\"text-align: center\">...</th><th style=\"text-align: center\">1137</th><th style=\"text-align: center\">1138</th><th style=\"text-align: center\">1139</th><th style=\"text-align: center\">1140</th><th style=\"text-align: center\">1141</th></tr></thead><tbody><tr><td style=\"text-align: center\">0/0</td><td style=\"text-align: center\">0/0</td><td style=\"text-align: center\">0/0</td><td style=\"text-align: center\">0/0</td><td style=\"text-align: center\">0/0</td><td style=\"text-align: center\">...</td><td style=\"text-align: center\">0/0</td><td style=\"text-align: center\">0/0</td><td style=\"text-align: center\">0/0</td><td style=\"text-align: center\">0/0</td><td style=\"text-align: center\">0/0</td></tr></tbody></table></div>"
      ],
      "text/plain": [
       "<GenotypeVector shape=(1142, 2) dtype=int8>\n",
       "0/0 0/0 0/0 0/0 0/0 ... 0/0 0/0 0/0 0/0 0/0"
      ]
     },
     "execution_count": 7,
     "metadata": {},
     "output_type": "execute_result"
    }
   ],
   "source": [
    "genotypes[0]"
   ]
  },
  {
   "cell_type": "markdown",
   "metadata": {},
   "source": [
    "And now let's look at the first variant call for the first sample."
   ]
  },
  {
   "cell_type": "code",
   "execution_count": 8,
   "metadata": {},
   "outputs": [
    {
     "data": {
      "text/plain": [
       "array([0, 0], dtype=int8)"
      ]
     },
     "execution_count": 8,
     "metadata": {},
     "output_type": "execute_result"
    }
   ],
   "source": [
    "genotypes[0][0]"
   ]
  },
  {
   "cell_type": "markdown",
   "metadata": {},
   "source": [
    "You can see above that for sample[0] the allele is 0/0, meaning it is homozygous for the reference."
   ]
  },
  {
   "cell_type": "code",
   "execution_count": 9,
   "metadata": {},
   "outputs": [],
   "source": [
    "## Get the Samples"
   ]
  },
  {
   "cell_type": "code",
   "execution_count": null,
   "metadata": {},
   "outputs": [],
   "source": []
  }
 ],
 "metadata": {
  "kernelspec": {
   "display_name": "Python [conda env:root] *",
   "language": "python",
   "name": "conda-root-py"
  },
  "language_info": {
   "codemirror_mode": {
    "name": "ipython",
    "version": 3
   },
   "file_extension": ".py",
   "mimetype": "text/x-python",
   "name": "python",
   "nbconvert_exporter": "python",
   "pygments_lexer": "ipython3",
   "version": "3.7.6"
  }
 },
 "nbformat": 4,
 "nbformat_minor": 4
}
