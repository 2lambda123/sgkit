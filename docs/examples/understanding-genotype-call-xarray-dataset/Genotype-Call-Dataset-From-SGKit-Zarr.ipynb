{
 "cells": [
  {
   "cell_type": "markdown",
   "metadata": {},
   "source": [
    "# Load From Malaria Gen Zarr\n",
    "\n",
    "A central point to the SGkit API is the Genotype Call Dataset. This is the data structure that most of the other functions use. It uses [Xarray](http://xarray.pydata.org/en/stable/) underneath the hood to give a programmatic interface that allows for the backend to be several different data files.\n",
    "\n",
    "The Xarray itself is *sort of* a transposed VCF file.\n",
    "\n",
    "For this example we are going to from the preprocessed zarr to the sgkit Genotype Call XArray Dataset.\n",
    "\n",
    "This is only meant to demonstrate the datatypes that we feed into the Xarray dataset. For a more conceptual understanding please check out the `Genotype-Call-Dataset-From-VCF.ipynb`."
   ]
  },
  {
   "cell_type": "code",
   "execution_count": 1,
   "metadata": {},
   "outputs": [],
   "source": [
    "import numpy as np\n",
    "import zarr\n",
    "import pandas as pd\n",
    "import dask.array as da\n",
    "import allel\n",
    "from pprint import pprint\n",
    "import matplotlib.pyplot as plt\n",
    "%matplotlib inline"
   ]
  },
  {
   "cell_type": "markdown",
   "metadata": {},
   "source": [
    "## Create a Dask Cluster\n",
    "\n",
    "This isn't that important for this example, but SGkit can use Dask under the hood for many of it's calculations. Divide and conquer your statistical genomics data!"
   ]
  },
  {
   "cell_type": "code",
   "execution_count": 2,
   "metadata": {},
   "outputs": [
    {
     "data": {
      "application/vnd.jupyter.widget-view+json": {
       "model_id": "60ad30bcd7044d6fb7f8fd803c140a26",
       "version_major": 2,
       "version_minor": 0
      },
      "text/plain": [
       "VBox(children=(HTML(value='<h2>KubeCluster</h2>'), HBox(children=(HTML(value='\\n<div>\\n  <style scoped>\\n    .…"
      ]
     },
     "metadata": {},
     "output_type": "display_data"
    }
   ],
   "source": [
    "from dask_kubernetes import KubeCluster\n",
    "cluster = KubeCluster(n_workers=30, silence_logs='error')\n",
    "cluster"
   ]
  },
  {
   "cell_type": "markdown",
   "metadata": {},
   "source": [
    "## Import sgkit"
   ]
  },
  {
   "cell_type": "code",
   "execution_count": 3,
   "metadata": {},
   "outputs": [
    {
     "name": "stdout",
     "output_type": "stream",
     "text": [
      "Collecting git+https://github.com/pystatgen/sgkit@96203d471531e7e2416d4dd9b48ca11d660a1bcc\n",
      "  Cloning https://github.com/pystatgen/sgkit (to revision 96203d471531e7e2416d4dd9b48ca11d660a1bcc) to /tmp/pip-req-build-7iudp4iv\n",
      "  Running command git clone -q https://github.com/pystatgen/sgkit /tmp/pip-req-build-7iudp4iv\n",
      "  Running command git checkout -q 96203d471531e7e2416d4dd9b48ca11d660a1bcc\n",
      "Requirement already satisfied (use --upgrade to upgrade): sgkit==0.1.dev67+g96203d4 from git+https://github.com/pystatgen/sgkit@96203d471531e7e2416d4dd9b48ca11d660a1bcc in /opt/conda/lib/python3.7/site-packages\n",
      "Requirement already satisfied: numpy in /opt/conda/lib/python3.7/site-packages (from sgkit==0.1.dev67+g96203d4) (1.18.4)\n",
      "Requirement already satisfied: xarray in /opt/conda/lib/python3.7/site-packages (from sgkit==0.1.dev67+g96203d4) (0.15.1)\n",
      "Requirement already satisfied: setuptools>=41.2 in /opt/conda/lib/python3.7/site-packages (from sgkit==0.1.dev67+g96203d4) (47.1.1.post20200529)\n",
      "Requirement already satisfied: pandas>=0.25 in /opt/conda/lib/python3.7/site-packages (from xarray->sgkit==0.1.dev67+g96203d4) (1.0.4)\n",
      "Requirement already satisfied: python-dateutil>=2.6.1 in /opt/conda/lib/python3.7/site-packages (from pandas>=0.25->xarray->sgkit==0.1.dev67+g96203d4) (2.8.1)\n",
      "Requirement already satisfied: pytz>=2017.2 in /opt/conda/lib/python3.7/site-packages (from pandas>=0.25->xarray->sgkit==0.1.dev67+g96203d4) (2020.1)\n",
      "Requirement already satisfied: six>=1.5 in /opt/conda/lib/python3.7/site-packages (from python-dateutil>=2.6.1->pandas>=0.25->xarray->sgkit==0.1.dev67+g96203d4) (1.15.0)\n",
      "Building wheels for collected packages: sgkit\n",
      "  Building wheel for sgkit (setup.py) ... \u001b[?25ldone\n",
      "\u001b[?25h  Created wheel for sgkit: filename=sgkit-0.1.dev67+g96203d4-py3-none-any.whl size=19421 sha256=76ddd164160ed34beee7e6e8f6f0bde32b36b898074de2a50e0e1ce64f228d70\n",
      "  Stored in directory: /home/jovyan/.cache/pip/wheels/6f/2b/6e/48d20c382bb6a66ea96c6dee6e6e575ea88180fef1e96a9024\n",
      "Successfully built sgkit\n"
     ]
    }
   ],
   "source": [
    "! pip install git+https://github.com/pystatgen/sgkit@96203d471531e7e2416d4dd9b48ca11d660a1bcc"
   ]
  },
  {
   "cell_type": "code",
   "execution_count": 4,
   "metadata": {},
   "outputs": [
    {
     "name": "stdout",
     "output_type": "stream",
     "text": [
      "Help on function create_genotype_call_dataset in module sgkit.api:\n",
      "\n",
      "create_genotype_call_dataset(*, variant_contig_names: List[str], variant_contig: Any, variant_position: Any, variant_alleles: Any, sample_id: Any, call_genotype: Any, call_genotype_phased: Any = None, variant_id: Any = None) -> xarray.core.dataset.Dataset\n",
      "    Create a dataset of genotype calls.\n",
      "    \n",
      "    Parameters\n",
      "    ----------\n",
      "    variant_contig_names : list of str\n",
      "        The contig names.\n",
      "    variant_contig : array_like, int\n",
      "        The (index of the) contig for each variant.\n",
      "    variant_position : array_like, int\n",
      "        The reference position of the variant.\n",
      "    variant_alleles : array_like, S1\n",
      "        The possible alleles for the variant.\n",
      "    sample_id : array_like, str\n",
      "        The unique identifier of the sample.\n",
      "    call_genotype : array_like, int\n",
      "        Genotype, encoded as allele values (0 for the reference, 1 for\n",
      "        the first allele, 2 for the second allele), or -1 to indicate a\n",
      "        missing value.\n",
      "    call_genotype_phased : array_like, bool, optional\n",
      "        A flag for each call indicating if it is phased or not. If\n",
      "        omitted all calls are unphased.\n",
      "    variant_id: array_like, str, optional\n",
      "        The unique identifier of the variant.\n",
      "    \n",
      "    Returns\n",
      "    -------\n",
      "    xr.Dataset\n",
      "        The dataset of genotype calls.\n",
      "\n"
     ]
    }
   ],
   "source": [
    "import sgkit\n",
    "help(sgkit.api.create_genotype_call_dataset)"
   ]
  },
  {
   "cell_type": "markdown",
   "metadata": {},
   "source": [
    "## Get the Malaria Gen Zarr Data"
   ]
  },
  {
   "cell_type": "markdown",
   "metadata": {},
   "source": [
    "The [zarr](https://zarr.readthedocs.io/en/stable) data is hosted in a google cloud bucket, or available for download from the public FTP site."
   ]
  },
  {
   "cell_type": "code",
   "execution_count": 5,
   "metadata": {},
   "outputs": [],
   "source": [
    "import gcsfs\n",
    "\n",
    "gcs_bucket_fs = gcsfs.GCSFileSystem(project='malariagen-jupyterhub', token='anon', access='read_only')\n",
    "\n",
    "storage_path = 'ag1000g-release/phase2.AR1/variation/main/zarr/pass/ag1000g.phase2.ar1.pass'\n",
    "store = gcsfs.mapping.GCSMap(storage_path, gcs=gcs_bucket_fs, check=False, create=False)\n",
    "callset = zarr.Group(store)"
   ]
  },
  {
   "cell_type": "markdown",
   "metadata": {},
   "source": [
    "If you explore the zarr data you will see that it is mostly the VCF data, with a few fields pre calculated for convenience."
   ]
  },
  {
   "cell_type": "code",
   "execution_count": 6,
   "metadata": {},
   "outputs": [
    {
     "name": "stdout",
     "output_type": "stream",
     "text": [
      "<zarr.core.Array '/samples' (1142,) object>\n"
     ]
    }
   ],
   "source": [
    "print(callset['samples'])"
   ]
  },
  {
   "cell_type": "code",
   "execution_count": 7,
   "metadata": {},
   "outputs": [
    {
     "name": "stdout",
     "output_type": "stream",
     "text": [
      "3R\n",
      " ├── calldata\n",
      " │   └── GT (14481509, 1142, 2) int8\n",
      " ├── samples (1142,) object\n",
      " └── variants\n",
      "     ├── ABHet (14481509,) float32\n",
      "     ├── ABHom (14481509,) float32\n",
      "     ├── AC (14481509, 3) int32\n",
      "     ├── AF (14481509, 3) float32\n",
      "     ├── ALT (14481509, 3) |S1\n",
      "     ├── AN (14481509,) int32\n",
      "     ├── Accessible (14481509,) bool\n",
      "     ├── BaseCounts (14481509, 4) int32\n",
      "     ├── BaseQRankSum (14481509,) float32\n",
      "     ├── Coverage (14481509,) int32\n",
      "     ├── CoverageMQ0 (14481509,) int32\n",
      "     ├── DP (14481509,) int32\n",
      "     ├── DS (14481509,) bool\n",
      "     ├── Dels (14481509,) float32\n",
      "     ├── FILTER_BaseQRankSum (14481509,) bool\n",
      "     ├── FILTER_FS (14481509,) bool\n",
      "     ├── FILTER_HRun (14481509,) bool\n",
      "     ├── FILTER_HighCoverage (14481509,) bool\n",
      "     ├── FILTER_HighMQ0 (14481509,) bool\n",
      "     ├── FILTER_LowCoverage (14481509,) bool\n",
      "     ├── FILTER_LowMQ (14481509,) bool\n",
      "     ├── FILTER_LowQual (14481509,) bool\n",
      "     ├── FILTER_NoCoverage (14481509,) bool\n",
      "     ├── FILTER_PASS (14481509,) bool\n",
      "     ├── FILTER_QD (14481509,) bool\n",
      "     ├── FILTER_ReadPosRankSum (14481509,) bool\n",
      "     ├── FILTER_RefN (14481509,) bool\n",
      "     ├── FILTER_RepeatDUST (14481509,) bool\n",
      "     ├── FS (14481509,) float32\n",
      "     ├── HRun (14481509,) int32\n",
      "     ├── HW (14481509,) float32\n",
      "     ├── HaplotypeScore (14481509,) float32\n",
      "     ├── HighCoverage (14481509,) int32\n",
      "     ├── HighMQ0 (14481509,) int32\n",
      "     ├── InbreedingCoeff (14481509,) float32\n",
      "     ├── LowCoverage (14481509,) int32\n",
      "     ├── LowMQ (14481509,) int32\n",
      "     ├── LowPairing (14481509,) int32\n",
      "     ├── MLEAC (14481509, 3) int32\n",
      "     ├── MLEAF (14481509, 3) float32\n",
      "     ├── MQ (14481509,) float32\n",
      "     ├── MQ0 (14481509,) int32\n",
      "     ├── MQRankSum (14481509,) float32\n",
      "     ├── NDA (14481509,) int32\n",
      "     ├── NoCoverage (14481509,) int32\n",
      "     ├── OND (14481509,) float32\n",
      "     ├── POS (14481509,) int32\n",
      "     ├── QD (14481509,) float32\n",
      "     ├── QUAL (14481509,) float32\n",
      "     ├── REF (14481509,) |S1\n",
      "     ├── RPA (14481509,) int32\n",
      "     ├── RU (14481509,) object\n",
      "     ├── ReadPosRankSum (14481509,) float32\n",
      "     ├── RefMasked (14481509,) bool\n",
      "     ├── RefN (14481509,) bool\n",
      "     ├── RepeatDUST (14481509,) bool\n",
      "     ├── RepeatMasker (14481509,) bool\n",
      "     ├── RepeatTRF (14481509,) bool\n",
      "     ├── STR (14481509,) bool\n",
      "     ├── VariantType (14481509,) object\n",
      "     ├── altlen (14481509, 3) int32\n",
      "     ├── is_snp (14481509,) bool\n",
      "     └── numalt (14481509,) int32\n"
     ]
    }
   ],
   "source": [
    "chrom = '3R'\n",
    "print(callset[chrom].tree())"
   ]
  },
  {
   "cell_type": "markdown",
   "metadata": {},
   "source": [
    "## Get the Call Data"
   ]
  },
  {
   "cell_type": "code",
   "execution_count": 8,
   "metadata": {},
   "outputs": [
    {
     "data": {
      "text/html": [
       "<div class=\"allel allel-DisplayAs2D\"><span>&lt;GenotypeChunkedArray shape=(14481509, 1142, 2) dtype=int8 chunks=(524288, 61, 2)\n",
       "   nbytes=30.8G cbytes=-1 cratio=-33075766556.0\n",
       "   compression=blosc compression_opts={'cname': 'zstd', 'clevel': 1, 'shuffle': -1, 'blocksize': 0}\n",
       "   values=zarr.core.Array&gt;</span><table><thead><tr><th></th><th style=\"text-align: center\">0</th><th style=\"text-align: center\">1</th><th style=\"text-align: center\">2</th><th style=\"text-align: center\">3</th><th style=\"text-align: center\">4</th><th style=\"text-align: center\">...</th><th style=\"text-align: center\">1137</th><th style=\"text-align: center\">1138</th><th style=\"text-align: center\">1139</th><th style=\"text-align: center\">1140</th><th style=\"text-align: center\">1141</th></tr></thead><tbody><tr><th style=\"text-align: center; background-color: white; border-right: 1px solid black; \">0</th><td style=\"text-align: center\">0/0</td><td style=\"text-align: center\">0/0</td><td style=\"text-align: center\">0/0</td><td style=\"text-align: center\">0/0</td><td style=\"text-align: center\">0/0</td><td style=\"text-align: center\">...</td><td style=\"text-align: center\">0/0</td><td style=\"text-align: center\">0/0</td><td style=\"text-align: center\">0/0</td><td style=\"text-align: center\">0/0</td><td style=\"text-align: center\">0/0</td></tr><tr><th style=\"text-align: center; background-color: white; border-right: 1px solid black; \">1</th><td style=\"text-align: center\">0/0</td><td style=\"text-align: center\">0/0</td><td style=\"text-align: center\">0/0</td><td style=\"text-align: center\">0/0</td><td style=\"text-align: center\">0/0</td><td style=\"text-align: center\">...</td><td style=\"text-align: center\">0/0</td><td style=\"text-align: center\">0/0</td><td style=\"text-align: center\">0/0</td><td style=\"text-align: center\">0/0</td><td style=\"text-align: center\">0/0</td></tr><tr><th style=\"text-align: center; background-color: white; border-right: 1px solid black; \">2</th><td style=\"text-align: center\">0/0</td><td style=\"text-align: center\">0/0</td><td style=\"text-align: center\">0/0</td><td style=\"text-align: center\">0/0</td><td style=\"text-align: center\">0/0</td><td style=\"text-align: center\">...</td><td style=\"text-align: center\">0/0</td><td style=\"text-align: center\">0/0</td><td style=\"text-align: center\">0/0</td><td style=\"text-align: center\">0/0</td><td style=\"text-align: center\">0/0</td></tr><tr><th style=\"text-align: center; background-color: white; border-right: 1px solid black; \">...</th><td style=\"text-align: center\" colspan=\"12\">...</td></tr><tr><th style=\"text-align: center; background-color: white; border-right: 1px solid black; \">14481506</th><td style=\"text-align: center\">0/0</td><td style=\"text-align: center\">0/0</td><td style=\"text-align: center\">0/0</td><td style=\"text-align: center\">0/0</td><td style=\"text-align: center\">0/0</td><td style=\"text-align: center\">...</td><td style=\"text-align: center\">0/0</td><td style=\"text-align: center\">0/0</td><td style=\"text-align: center\">0/0</td><td style=\"text-align: center\">0/0</td><td style=\"text-align: center\">0/0</td></tr><tr><th style=\"text-align: center; background-color: white; border-right: 1px solid black; \">14481507</th><td style=\"text-align: center\">0/0</td><td style=\"text-align: center\">0/0</td><td style=\"text-align: center\">0/0</td><td style=\"text-align: center\">0/0</td><td style=\"text-align: center\">0/0</td><td style=\"text-align: center\">...</td><td style=\"text-align: center\">0/0</td><td style=\"text-align: center\">0/0</td><td style=\"text-align: center\">0/0</td><td style=\"text-align: center\">0/0</td><td style=\"text-align: center\">0/0</td></tr><tr><th style=\"text-align: center; background-color: white; border-right: 1px solid black; \">14481508</th><td style=\"text-align: center\">0/0</td><td style=\"text-align: center\">0/0</td><td style=\"text-align: center\">0/0</td><td style=\"text-align: center\">0/0</td><td style=\"text-align: center\">0/0</td><td style=\"text-align: center\">...</td><td style=\"text-align: center\">0/0</td><td style=\"text-align: center\">0/0</td><td style=\"text-align: center\">0/0</td><td style=\"text-align: center\">0/0</td><td style=\"text-align: center\">0/0</td></tr></tbody></table></div>"
      ],
      "text/plain": [
       "<GenotypeChunkedArray shape=(14481509, 1142, 2) dtype=int8 chunks=(524288, 61, 2)\n",
       "   nbytes=30.8G cbytes=-1 cratio=-33075766556.0\n",
       "   compression=blosc compression_opts={'cname': 'zstd', 'clevel': 1, 'shuffle': -1, 'blocksize': 0}\n",
       "   values=zarr.core.Array>"
      ]
     },
     "execution_count": 8,
     "metadata": {},
     "output_type": "execute_result"
    }
   ],
   "source": [
    "chrom = '3R'\n",
    "calldata = callset[chrom]['calldata']\n",
    "\n",
    "# TODO Will this be changed for SGKit?\n",
    "genotypes = allel.GenotypeChunkedArray(calldata['GT'])\n",
    "genotypes"
   ]
  },
  {
   "cell_type": "markdown",
   "metadata": {},
   "source": [
    "### Genotype Chunked Array Data Structure\n",
    "\n",
    "When looking at the `allel.GenotypeChunkedArray` we see that we have: GenotypeChunkedArray shape=(14481509, 1142, 2)\n",
    "\n",
    "The shape corresponds to `variants`, `samples`, `alleles`.\n",
    "\n",
    "For every index of a variant we have the alleles of each of the samples.\n",
    "\n",
    "So let's get all the sample data for the first variant."
   ]
  },
  {
   "cell_type": "code",
   "execution_count": 9,
   "metadata": {},
   "outputs": [
    {
     "data": {
      "text/html": [
       "<div class=\"allel allel-DisplayAs1D\"><span>&lt;GenotypeVector shape=(1142, 2) dtype=int8&gt;</span><table><thead><tr><th style=\"text-align: center\">0</th><th style=\"text-align: center\">1</th><th style=\"text-align: center\">2</th><th style=\"text-align: center\">3</th><th style=\"text-align: center\">4</th><th style=\"text-align: center\">...</th><th style=\"text-align: center\">1137</th><th style=\"text-align: center\">1138</th><th style=\"text-align: center\">1139</th><th style=\"text-align: center\">1140</th><th style=\"text-align: center\">1141</th></tr></thead><tbody><tr><td style=\"text-align: center\">0/0</td><td style=\"text-align: center\">0/0</td><td style=\"text-align: center\">0/0</td><td style=\"text-align: center\">0/0</td><td style=\"text-align: center\">0/0</td><td style=\"text-align: center\">...</td><td style=\"text-align: center\">0/0</td><td style=\"text-align: center\">0/0</td><td style=\"text-align: center\">0/0</td><td style=\"text-align: center\">0/0</td><td style=\"text-align: center\">0/0</td></tr></tbody></table></div>"
      ],
      "text/plain": [
       "<GenotypeVector shape=(1142, 2) dtype=int8>\n",
       "0/0 0/0 0/0 0/0 0/0 ... 0/0 0/0 0/0 0/0 0/0"
      ]
     },
     "execution_count": 9,
     "metadata": {},
     "output_type": "execute_result"
    }
   ],
   "source": [
    "genotypes[0]"
   ]
  },
  {
   "cell_type": "markdown",
   "metadata": {},
   "source": [
    "And now let's look at the first variant call for the first sample."
   ]
  },
  {
   "cell_type": "code",
   "execution_count": 10,
   "metadata": {},
   "outputs": [
    {
     "data": {
      "text/plain": [
       "array([0, 0], dtype=int8)"
      ]
     },
     "execution_count": 10,
     "metadata": {},
     "output_type": "execute_result"
    }
   ],
   "source": [
    "genotypes[0][0]"
   ]
  },
  {
   "cell_type": "markdown",
   "metadata": {},
   "source": [
    "You can see above that for sample[0] the allele is 0/0, meaning it is homozygous for the reference."
   ]
  },
  {
   "cell_type": "markdown",
   "metadata": {},
   "source": [
    "## Get the Samples"
   ]
  },
  {
   "cell_type": "code",
   "execution_count": 11,
   "metadata": {},
   "outputs": [],
   "source": [
    "samples = callset['samples']\n",
    "sample_id = np.array(samples, dtype='U')"
   ]
  },
  {
   "cell_type": "code",
   "execution_count": 12,
   "metadata": {},
   "outputs": [
    {
     "data": {
      "text/plain": [
       "array(['AA0040-C', 'AA0041-C', 'AA0042-C', 'AA0043-C', 'AA0044-C'],\n",
       "      dtype='<U8')"
      ]
     },
     "execution_count": 12,
     "metadata": {},
     "output_type": "execute_result"
    }
   ],
   "source": [
    "sample_id[0:5]"
   ]
  },
  {
   "cell_type": "markdown",
   "metadata": {},
   "source": [
    "## Grab the Variant Positions\n",
    "\n",
    "Get the positions of each variant"
   ]
  },
  {
   "cell_type": "code",
   "execution_count": 13,
   "metadata": {},
   "outputs": [],
   "source": [
    "variant_position = callset[chrom]['variants/POS']"
   ]
  },
  {
   "cell_type": "markdown",
   "metadata": {},
   "source": [
    "Let's investigate some of the attributes of our numpy array."
   ]
  },
  {
   "cell_type": "code",
   "execution_count": 14,
   "metadata": {},
   "outputs": [
    {
     "name": "stdout",
     "output_type": "stream",
     "text": [
      "(14481509,)\n",
      "i\n"
     ]
    }
   ],
   "source": [
    "print(variant_position.shape)\n",
    "print(variant_position.dtype.kind)"
   ]
  },
  {
   "cell_type": "markdown",
   "metadata": {},
   "source": [
    "## Grab the Reference Alleles\n",
    "\n",
    "For each variant we need the reference and the alternate."
   ]
  },
  {
   "cell_type": "code",
   "execution_count": 15,
   "metadata": {},
   "outputs": [
    {
     "data": {
      "text/plain": [
       "<zarr.core.Array '/3R/variants/REF' (14481509,) |S1>"
      ]
     },
     "execution_count": 15,
     "metadata": {},
     "output_type": "execute_result"
    }
   ],
   "source": [
    "variant_ref = callset[chrom]['variants/REF']\n",
    "variant_ref"
   ]
  },
  {
   "cell_type": "code",
   "execution_count": 16,
   "metadata": {},
   "outputs": [
    {
     "data": {
      "text/plain": [
       "<zarr.core.Array '/3R/variants/ALT' (14481509, 3) |S1>"
      ]
     },
     "execution_count": 16,
     "metadata": {},
     "output_type": "execute_result"
    }
   ],
   "source": [
    "variant_alt = callset[chrom]['variants/ALT']\n",
    "variant_alt"
   ]
  },
  {
   "cell_type": "markdown",
   "metadata": {},
   "source": [
    "Now, instead of having 2 separate variant arrays, we want an np array of :\n",
    "\n",
    "```python\n",
    "\n",
    "[ \n",
    "    # variant position index\n",
    "    [ ref, alt ],\n",
    "]    \n",
    "```"
   ]
  },
  {
   "cell_type": "code",
   "execution_count": 17,
   "metadata": {},
   "outputs": [],
   "source": [
    "# the alternate lists all possible variants. we'll just grab the first, but really we should filter out any variants that aren't biallelic\n",
    "variant_alleles = np.column_stack((variant_ref, variant_alt[:,0]))\n",
    "variant_contig = np.zeros(len(variant_alleles))"
   ]
  },
  {
   "cell_type": "code",
   "execution_count": 18,
   "metadata": {},
   "outputs": [
    {
     "data": {
      "text/plain": [
       "array([0., 0., 0., 0., 0., 0., 0., 0., 0., 0.])"
      ]
     },
     "execution_count": 18,
     "metadata": {},
     "output_type": "execute_result"
    }
   ],
   "source": [
    "variant_contig[0:10]"
   ]
  },
  {
   "cell_type": "code",
   "execution_count": 19,
   "metadata": {},
   "outputs": [
    {
     "data": {
      "text/plain": [
       "array([[b'A', b'G'],\n",
       "       [b'A', b'T'],\n",
       "       [b'T', b'C'],\n",
       "       [b'G', b'A'],\n",
       "       [b'T', b'A'],\n",
       "       [b'A', b'G'],\n",
       "       [b'G', b'C'],\n",
       "       [b'C', b'T'],\n",
       "       [b'C', b'T'],\n",
       "       [b'G', b'A']], dtype='|S1')"
      ]
     },
     "execution_count": 19,
     "metadata": {},
     "output_type": "execute_result"
    }
   ],
   "source": [
    "variant_alleles[0:10]"
   ]
  },
  {
   "cell_type": "markdown",
   "metadata": {},
   "source": [
    "## Create the Xarray Genotype Callset"
   ]
  },
  {
   "cell_type": "code",
   "execution_count": 20,
   "metadata": {},
   "outputs": [],
   "source": [
    "# You can use the dataset_size to create a smaller dataset if you're just exploring\n",
    "\n",
    "#dataset_size = len(variant_alleles)\n",
    "variant_contig_names = [chrom]\n",
    "call_genotype = genotypes\n",
    "dataset_size = 10000\n",
    "variant_contig = np.zeros(dataset_size)\n",
    "variant_position = variant_position[0:dataset_size]\n",
    "variant_alleles = variant_alleles[0:dataset_size]\n",
    "call_genotype = call_genotype[0:dataset_size]"
   ]
  },
  {
   "cell_type": "code",
   "execution_count": 21,
   "metadata": {},
   "outputs": [],
   "source": [
    "genotype_xarray_dataset = sgkit.api.create_genotype_call_dataset(\n",
    "    variant_contig_names = variant_contig_names,\n",
    "    # these are all on the 0th contig, because we only have one contig\n",
    "    variant_contig = np.zeros(len(variant_position), dtype='int'),\n",
    "    variant_position = variant_position,\n",
    "    variant_alleles = variant_alleles,\n",
    "    sample_id = sample_id,\n",
    "    call_genotype = call_genotype,\n",
    ")"
   ]
  },
  {
   "cell_type": "code",
   "execution_count": 22,
   "metadata": {},
   "outputs": [
    {
     "data": {
      "text/html": [
       "<div><svg style=\"position: absolute; width: 0; height: 0; overflow: hidden\">\n",
       "<defs>\n",
       "<symbol id=\"icon-database\" viewBox=\"0 0 32 32\">\n",
       "<title>Show/Hide data repr</title>\n",
       "<path d=\"M16 0c-8.837 0-16 2.239-16 5v4c0 2.761 7.163 5 16 5s16-2.239 16-5v-4c0-2.761-7.163-5-16-5z\"></path>\n",
       "<path d=\"M16 17c-8.837 0-16-2.239-16-5v6c0 2.761 7.163 5 16 5s16-2.239 16-5v-6c0 2.761-7.163 5-16 5z\"></path>\n",
       "<path d=\"M16 26c-8.837 0-16-2.239-16-5v6c0 2.761 7.163 5 16 5s16-2.239 16-5v-6c0 2.761-7.163 5-16 5z\"></path>\n",
       "</symbol>\n",
       "<symbol id=\"icon-file-text2\" viewBox=\"0 0 32 32\">\n",
       "<title>Show/Hide attributes</title>\n",
       "<path d=\"M28.681 7.159c-0.694-0.947-1.662-2.053-2.724-3.116s-2.169-2.030-3.116-2.724c-1.612-1.182-2.393-1.319-2.841-1.319h-15.5c-1.378 0-2.5 1.121-2.5 2.5v27c0 1.378 1.122 2.5 2.5 2.5h23c1.378 0 2.5-1.122 2.5-2.5v-19.5c0-0.448-0.137-1.23-1.319-2.841zM24.543 5.457c0.959 0.959 1.712 1.825 2.268 2.543h-4.811v-4.811c0.718 0.556 1.584 1.309 2.543 2.268zM28 29.5c0 0.271-0.229 0.5-0.5 0.5h-23c-0.271 0-0.5-0.229-0.5-0.5v-27c0-0.271 0.229-0.5 0.5-0.5 0 0 15.499-0 15.5 0v7c0 0.552 0.448 1 1 1h7v19.5z\"></path>\n",
       "<path d=\"M23 26h-14c-0.552 0-1-0.448-1-1s0.448-1 1-1h14c0.552 0 1 0.448 1 1s-0.448 1-1 1z\"></path>\n",
       "<path d=\"M23 22h-14c-0.552 0-1-0.448-1-1s0.448-1 1-1h14c0.552 0 1 0.448 1 1s-0.448 1-1 1z\"></path>\n",
       "<path d=\"M23 18h-14c-0.552 0-1-0.448-1-1s0.448-1 1-1h14c0.552 0 1 0.448 1 1s-0.448 1-1 1z\"></path>\n",
       "</symbol>\n",
       "</defs>\n",
       "</svg>\n",
       "<style>/* CSS stylesheet for displaying xarray objects in jupyterlab.\n",
       " *\n",
       " */\n",
       "\n",
       ":root {\n",
       "  --xr-font-color0: var(--jp-content-font-color0, rgba(0, 0, 0, 1));\n",
       "  --xr-font-color2: var(--jp-content-font-color2, rgba(0, 0, 0, 0.54));\n",
       "  --xr-font-color3: var(--jp-content-font-color3, rgba(0, 0, 0, 0.38));\n",
       "  --xr-border-color: var(--jp-border-color2, #e0e0e0);\n",
       "  --xr-disabled-color: var(--jp-layout-color3, #bdbdbd);\n",
       "  --xr-background-color: var(--jp-layout-color0, white);\n",
       "  --xr-background-color-row-even: var(--jp-layout-color1, white);\n",
       "  --xr-background-color-row-odd: var(--jp-layout-color2, #eeeeee);\n",
       "}\n",
       "\n",
       ".xr-wrap {\n",
       "  min-width: 300px;\n",
       "  max-width: 700px;\n",
       "}\n",
       "\n",
       ".xr-header {\n",
       "  padding-top: 6px;\n",
       "  padding-bottom: 6px;\n",
       "  margin-bottom: 4px;\n",
       "  border-bottom: solid 1px var(--xr-border-color);\n",
       "}\n",
       "\n",
       ".xr-header > div,\n",
       ".xr-header > ul {\n",
       "  display: inline;\n",
       "  margin-top: 0;\n",
       "  margin-bottom: 0;\n",
       "}\n",
       "\n",
       ".xr-obj-type,\n",
       ".xr-array-name {\n",
       "  margin-left: 2px;\n",
       "  margin-right: 10px;\n",
       "}\n",
       "\n",
       ".xr-obj-type {\n",
       "  color: var(--xr-font-color2);\n",
       "}\n",
       "\n",
       ".xr-sections {\n",
       "  padding-left: 0 !important;\n",
       "  display: grid;\n",
       "  grid-template-columns: 150px auto auto 1fr 20px 20px;\n",
       "}\n",
       "\n",
       ".xr-section-item {\n",
       "  display: contents;\n",
       "}\n",
       "\n",
       ".xr-section-item input {\n",
       "  display: none;\n",
       "}\n",
       "\n",
       ".xr-section-item input + label {\n",
       "  color: var(--xr-disabled-color);\n",
       "}\n",
       "\n",
       ".xr-section-item input:enabled + label {\n",
       "  cursor: pointer;\n",
       "  color: var(--xr-font-color2);\n",
       "}\n",
       "\n",
       ".xr-section-item input:enabled + label:hover {\n",
       "  color: var(--xr-font-color0);\n",
       "}\n",
       "\n",
       ".xr-section-summary {\n",
       "  grid-column: 1;\n",
       "  color: var(--xr-font-color2);\n",
       "  font-weight: 500;\n",
       "}\n",
       "\n",
       ".xr-section-summary > span {\n",
       "  display: inline-block;\n",
       "  padding-left: 0.5em;\n",
       "}\n",
       "\n",
       ".xr-section-summary-in:disabled + label {\n",
       "  color: var(--xr-font-color2);\n",
       "}\n",
       "\n",
       ".xr-section-summary-in + label:before {\n",
       "  display: inline-block;\n",
       "  content: '►';\n",
       "  font-size: 11px;\n",
       "  width: 15px;\n",
       "  text-align: center;\n",
       "}\n",
       "\n",
       ".xr-section-summary-in:disabled + label:before {\n",
       "  color: var(--xr-disabled-color);\n",
       "}\n",
       "\n",
       ".xr-section-summary-in:checked + label:before {\n",
       "  content: '▼';\n",
       "}\n",
       "\n",
       ".xr-section-summary-in:checked + label > span {\n",
       "  display: none;\n",
       "}\n",
       "\n",
       ".xr-section-summary,\n",
       ".xr-section-inline-details {\n",
       "  padding-top: 4px;\n",
       "  padding-bottom: 4px;\n",
       "}\n",
       "\n",
       ".xr-section-inline-details {\n",
       "  grid-column: 2 / -1;\n",
       "}\n",
       "\n",
       ".xr-section-details {\n",
       "  display: none;\n",
       "  grid-column: 1 / -1;\n",
       "  margin-bottom: 5px;\n",
       "}\n",
       "\n",
       ".xr-section-summary-in:checked ~ .xr-section-details {\n",
       "  display: contents;\n",
       "}\n",
       "\n",
       ".xr-array-wrap {\n",
       "  grid-column: 1 / -1;\n",
       "  display: grid;\n",
       "  grid-template-columns: 20px auto;\n",
       "}\n",
       "\n",
       ".xr-array-wrap > label {\n",
       "  grid-column: 1;\n",
       "  vertical-align: top;\n",
       "}\n",
       "\n",
       ".xr-preview {\n",
       "  color: var(--xr-font-color3);\n",
       "}\n",
       "\n",
       ".xr-array-preview,\n",
       ".xr-array-data {\n",
       "  padding: 0 5px !important;\n",
       "  grid-column: 2;\n",
       "}\n",
       "\n",
       ".xr-array-data,\n",
       ".xr-array-in:checked ~ .xr-array-preview {\n",
       "  display: none;\n",
       "}\n",
       "\n",
       ".xr-array-in:checked ~ .xr-array-data,\n",
       ".xr-array-preview {\n",
       "  display: inline-block;\n",
       "}\n",
       "\n",
       ".xr-dim-list {\n",
       "  display: inline-block !important;\n",
       "  list-style: none;\n",
       "  padding: 0 !important;\n",
       "  margin: 0;\n",
       "}\n",
       "\n",
       ".xr-dim-list li {\n",
       "  display: inline-block;\n",
       "  padding: 0;\n",
       "  margin: 0;\n",
       "}\n",
       "\n",
       ".xr-dim-list:before {\n",
       "  content: '(';\n",
       "}\n",
       "\n",
       ".xr-dim-list:after {\n",
       "  content: ')';\n",
       "}\n",
       "\n",
       ".xr-dim-list li:not(:last-child):after {\n",
       "  content: ',';\n",
       "  padding-right: 5px;\n",
       "}\n",
       "\n",
       ".xr-has-index {\n",
       "  font-weight: bold;\n",
       "}\n",
       "\n",
       ".xr-var-list,\n",
       ".xr-var-item {\n",
       "  display: contents;\n",
       "}\n",
       "\n",
       ".xr-var-item > div,\n",
       ".xr-var-item label,\n",
       ".xr-var-item > .xr-var-name span {\n",
       "  background-color: var(--xr-background-color-row-even);\n",
       "  margin-bottom: 0;\n",
       "}\n",
       "\n",
       ".xr-var-item > .xr-var-name:hover span {\n",
       "  padding-right: 5px;\n",
       "}\n",
       "\n",
       ".xr-var-list > li:nth-child(odd) > div,\n",
       ".xr-var-list > li:nth-child(odd) > label,\n",
       ".xr-var-list > li:nth-child(odd) > .xr-var-name span {\n",
       "  background-color: var(--xr-background-color-row-odd);\n",
       "}\n",
       "\n",
       ".xr-var-name {\n",
       "  grid-column: 1;\n",
       "}\n",
       "\n",
       ".xr-var-dims {\n",
       "  grid-column: 2;\n",
       "}\n",
       "\n",
       ".xr-var-dtype {\n",
       "  grid-column: 3;\n",
       "  text-align: right;\n",
       "  color: var(--xr-font-color2);\n",
       "}\n",
       "\n",
       ".xr-var-preview {\n",
       "  grid-column: 4;\n",
       "}\n",
       "\n",
       ".xr-var-name,\n",
       ".xr-var-dims,\n",
       ".xr-var-dtype,\n",
       ".xr-preview,\n",
       ".xr-attrs dt {\n",
       "  white-space: nowrap;\n",
       "  overflow: hidden;\n",
       "  text-overflow: ellipsis;\n",
       "  padding-right: 10px;\n",
       "}\n",
       "\n",
       ".xr-var-name:hover,\n",
       ".xr-var-dims:hover,\n",
       ".xr-var-dtype:hover,\n",
       ".xr-attrs dt:hover {\n",
       "  overflow: visible;\n",
       "  width: auto;\n",
       "  z-index: 1;\n",
       "}\n",
       "\n",
       ".xr-var-attrs,\n",
       ".xr-var-data {\n",
       "  display: none;\n",
       "  background-color: var(--xr-background-color) !important;\n",
       "  padding-bottom: 5px !important;\n",
       "}\n",
       "\n",
       ".xr-var-attrs-in:checked ~ .xr-var-attrs,\n",
       ".xr-var-data-in:checked ~ .xr-var-data {\n",
       "  display: block;\n",
       "}\n",
       "\n",
       ".xr-var-data > table {\n",
       "  float: right;\n",
       "}\n",
       "\n",
       ".xr-var-name span,\n",
       ".xr-var-data,\n",
       ".xr-attrs {\n",
       "  padding-left: 25px !important;\n",
       "}\n",
       "\n",
       ".xr-attrs,\n",
       ".xr-var-attrs,\n",
       ".xr-var-data {\n",
       "  grid-column: 1 / -1;\n",
       "}\n",
       "\n",
       "dl.xr-attrs {\n",
       "  padding: 0;\n",
       "  margin: 0;\n",
       "  display: grid;\n",
       "  grid-template-columns: 125px auto;\n",
       "}\n",
       "\n",
       ".xr-attrs dt, dd {\n",
       "  padding: 0;\n",
       "  margin: 0;\n",
       "  float: left;\n",
       "  padding-right: 10px;\n",
       "  width: auto;\n",
       "}\n",
       "\n",
       ".xr-attrs dt {\n",
       "  font-weight: normal;\n",
       "  grid-column: 1;\n",
       "}\n",
       "\n",
       ".xr-attrs dt:hover span {\n",
       "  display: inline-block;\n",
       "  background: var(--xr-background-color);\n",
       "  padding-right: 10px;\n",
       "}\n",
       "\n",
       ".xr-attrs dd {\n",
       "  grid-column: 2;\n",
       "  white-space: pre-wrap;\n",
       "  word-break: break-all;\n",
       "}\n",
       "\n",
       ".xr-icon-database,\n",
       ".xr-icon-file-text2 {\n",
       "  display: inline-block;\n",
       "  vertical-align: middle;\n",
       "  width: 1em;\n",
       "  height: 1.5em !important;\n",
       "  stroke-width: 0;\n",
       "  stroke: currentColor;\n",
       "  fill: currentColor;\n",
       "}\n",
       "</style><div class='xr-wrap'><div class='xr-header'><div class='xr-obj-type'>xarray.Dataset</div></div><ul class='xr-sections'><li class='xr-section-item'><input id='section-22eec0db-b831-4dca-b52d-52654f8e4504' class='xr-section-summary-in' type='checkbox' disabled ><label for='section-22eec0db-b831-4dca-b52d-52654f8e4504' class='xr-section-summary'  title='Expand/collapse section'>Dimensions:</label><div class='xr-section-inline-details'><ul class='xr-dim-list'><li><span>alleles</span>: 2</li><li><span>ploidy</span>: 2</li><li><span>samples</span>: 1142</li><li><span>variants</span>: 10000</li></ul></div><div class='xr-section-details'></div></li><li class='xr-section-item'><input id='section-6a87421e-9ebf-436e-9bde-ae5575a0daf3' class='xr-section-summary-in' type='checkbox' disabled ><label for='section-6a87421e-9ebf-436e-9bde-ae5575a0daf3' class='xr-section-summary'  title='Expand/collapse section'>Coordinates: <span>(0)</span></label><div class='xr-section-inline-details'></div><div class='xr-section-details'><ul class='xr-var-list'></ul></div></li><li class='xr-section-item'><input id='section-31ae6a07-816e-4a23-96ac-0ff515452c9e' class='xr-section-summary-in' type='checkbox'  checked><label for='section-31ae6a07-816e-4a23-96ac-0ff515452c9e' class='xr-section-summary' >Data variables: <span>(6)</span></label><div class='xr-section-inline-details'></div><div class='xr-section-details'><ul class='xr-var-list'><li class='xr-var-item'><div class='xr-var-name'><span>variant/contig</span></div><div class='xr-var-dims'>(variants)</div><div class='xr-var-dtype'>int64</div><div class='xr-var-preview xr-preview'>0 0 0 0 0 0 0 0 ... 0 0 0 0 0 0 0 0</div><input id='attrs-252c5f9e-51f0-468a-946f-12d0f5d0eb25' class='xr-var-attrs-in' type='checkbox' disabled><label for='attrs-252c5f9e-51f0-468a-946f-12d0f5d0eb25' title='Show/Hide attributes'><svg class='icon xr-icon-file-text2'><use xlink:href='#icon-file-text2'></use></svg></label><input id='data-d5353cb0-2e94-489d-91f8-517a50551886' class='xr-var-data-in' type='checkbox'><label for='data-d5353cb0-2e94-489d-91f8-517a50551886' title='Show/Hide data repr'><svg class='icon xr-icon-database'><use xlink:href='#icon-database'></use></svg></label><div class='xr-var-attrs'><dl class='xr-attrs'></dl></div><pre class='xr-var-data'>array([0, 0, 0, ..., 0, 0, 0])</pre></li><li class='xr-var-item'><div class='xr-var-name'><span>variant/position</span></div><div class='xr-var-dims'>(variants)</div><div class='xr-var-dtype'>int32</div><div class='xr-var-preview xr-preview'>9526 9531 9536 ... 64416 64418</div><input id='attrs-a3f4ac32-650d-43c9-a598-23d0e8cca0c8' class='xr-var-attrs-in' type='checkbox' disabled><label for='attrs-a3f4ac32-650d-43c9-a598-23d0e8cca0c8' title='Show/Hide attributes'><svg class='icon xr-icon-file-text2'><use xlink:href='#icon-file-text2'></use></svg></label><input id='data-009961d4-692f-4330-be05-43eb18d23d3f' class='xr-var-data-in' type='checkbox'><label for='data-009961d4-692f-4330-be05-43eb18d23d3f' title='Show/Hide data repr'><svg class='icon xr-icon-database'><use xlink:href='#icon-database'></use></svg></label><div class='xr-var-attrs'><dl class='xr-attrs'></dl></div><pre class='xr-var-data'>array([ 9526,  9531,  9536, ..., 64411, 64416, 64418], dtype=int32)</pre></li><li class='xr-var-item'><div class='xr-var-name'><span>variant/alleles</span></div><div class='xr-var-dims'>(variants, alleles)</div><div class='xr-var-dtype'>|S1</div><div class='xr-var-preview xr-preview'>b&#x27;A&#x27; b&#x27;G&#x27; b&#x27;A&#x27; ... b&#x27;T&#x27; b&#x27;T&#x27; b&#x27;C&#x27;</div><input id='attrs-c261d2fc-5319-45cf-ab2a-cf8a67b8221d' class='xr-var-attrs-in' type='checkbox' disabled><label for='attrs-c261d2fc-5319-45cf-ab2a-cf8a67b8221d' title='Show/Hide attributes'><svg class='icon xr-icon-file-text2'><use xlink:href='#icon-file-text2'></use></svg></label><input id='data-3f11c281-316b-40e5-9339-6bc398687572' class='xr-var-data-in' type='checkbox'><label for='data-3f11c281-316b-40e5-9339-6bc398687572' title='Show/Hide data repr'><svg class='icon xr-icon-database'><use xlink:href='#icon-database'></use></svg></label><div class='xr-var-attrs'><dl class='xr-attrs'></dl></div><pre class='xr-var-data'>array([[b&#x27;A&#x27;, b&#x27;G&#x27;],\n",
       "       [b&#x27;A&#x27;, b&#x27;T&#x27;],\n",
       "       [b&#x27;T&#x27;, b&#x27;C&#x27;],\n",
       "       ...,\n",
       "       [b&#x27;A&#x27;, b&#x27;T&#x27;],\n",
       "       [b&#x27;G&#x27;, b&#x27;T&#x27;],\n",
       "       [b&#x27;T&#x27;, b&#x27;C&#x27;]], dtype=&#x27;|S1&#x27;)</pre></li><li class='xr-var-item'><div class='xr-var-name'><span>sample/id</span></div><div class='xr-var-dims'>(samples)</div><div class='xr-var-dtype'>&lt;U8</div><div class='xr-var-preview xr-preview'>&#x27;AA0040-C&#x27; ... &#x27;AY0091-C&#x27;</div><input id='attrs-f2412ad2-05de-4bdb-ad05-202b7efdb85d' class='xr-var-attrs-in' type='checkbox' disabled><label for='attrs-f2412ad2-05de-4bdb-ad05-202b7efdb85d' title='Show/Hide attributes'><svg class='icon xr-icon-file-text2'><use xlink:href='#icon-file-text2'></use></svg></label><input id='data-0e60cdea-4f9b-4d10-9951-4b706b496983' class='xr-var-data-in' type='checkbox'><label for='data-0e60cdea-4f9b-4d10-9951-4b706b496983' title='Show/Hide data repr'><svg class='icon xr-icon-database'><use xlink:href='#icon-database'></use></svg></label><div class='xr-var-attrs'><dl class='xr-attrs'></dl></div><pre class='xr-var-data'>array([&#x27;AA0040-C&#x27;, &#x27;AA0041-C&#x27;, &#x27;AA0042-C&#x27;, ..., &#x27;AY0089-C&#x27;, &#x27;AY0090-C&#x27;,\n",
       "       &#x27;AY0091-C&#x27;], dtype=&#x27;&lt;U8&#x27;)</pre></li><li class='xr-var-item'><div class='xr-var-name'><span>call/genotype</span></div><div class='xr-var-dims'>(variants, samples, ploidy)</div><div class='xr-var-dtype'>int8</div><div class='xr-var-preview xr-preview'>0 0 0 0 0 0 0 0 ... 0 0 0 0 0 0 0 0</div><input id='attrs-b38916c5-7df9-402d-bc61-0d0a22281b38' class='xr-var-attrs-in' type='checkbox' disabled><label for='attrs-b38916c5-7df9-402d-bc61-0d0a22281b38' title='Show/Hide attributes'><svg class='icon xr-icon-file-text2'><use xlink:href='#icon-file-text2'></use></svg></label><input id='data-66bd4645-476e-47e5-8c60-83efaf92da1f' class='xr-var-data-in' type='checkbox'><label for='data-66bd4645-476e-47e5-8c60-83efaf92da1f' title='Show/Hide data repr'><svg class='icon xr-icon-database'><use xlink:href='#icon-database'></use></svg></label><div class='xr-var-attrs'><dl class='xr-attrs'></dl></div><pre class='xr-var-data'>array([[[0, 0],\n",
       "        [0, 0],\n",
       "        [0, 0],\n",
       "        ...,\n",
       "        [0, 0],\n",
       "        [0, 0],\n",
       "        [0, 0]],\n",
       "\n",
       "       [[0, 0],\n",
       "        [0, 0],\n",
       "        [0, 0],\n",
       "        ...,\n",
       "        [0, 0],\n",
       "        [0, 0],\n",
       "        [0, 0]],\n",
       "\n",
       "       [[0, 0],\n",
       "        [0, 0],\n",
       "        [0, 0],\n",
       "        ...,\n",
       "        [0, 0],\n",
       "        [0, 0],\n",
       "        [0, 0]],\n",
       "\n",
       "       ...,\n",
       "\n",
       "       [[0, 0],\n",
       "        [0, 0],\n",
       "        [0, 0],\n",
       "        ...,\n",
       "        [0, 0],\n",
       "        [0, 0],\n",
       "        [0, 0]],\n",
       "\n",
       "       [[0, 0],\n",
       "        [0, 0],\n",
       "        [0, 0],\n",
       "        ...,\n",
       "        [0, 0],\n",
       "        [0, 0],\n",
       "        [0, 0]],\n",
       "\n",
       "       [[0, 0],\n",
       "        [0, 0],\n",
       "        [0, 0],\n",
       "        ...,\n",
       "        [0, 0],\n",
       "        [0, 0],\n",
       "        [0, 0]]], dtype=int8)</pre></li><li class='xr-var-item'><div class='xr-var-name'><span>call/genotype_mask</span></div><div class='xr-var-dims'>(variants, samples, ploidy)</div><div class='xr-var-dtype'>bool</div><div class='xr-var-preview xr-preview'>False False False ... False False</div><input id='attrs-02e03dd0-1afb-43f7-a4e6-433e7aca4649' class='xr-var-attrs-in' type='checkbox' disabled><label for='attrs-02e03dd0-1afb-43f7-a4e6-433e7aca4649' title='Show/Hide attributes'><svg class='icon xr-icon-file-text2'><use xlink:href='#icon-file-text2'></use></svg></label><input id='data-bb049653-2f77-4298-a6fa-ed7d44903daa' class='xr-var-data-in' type='checkbox'><label for='data-bb049653-2f77-4298-a6fa-ed7d44903daa' title='Show/Hide data repr'><svg class='icon xr-icon-database'><use xlink:href='#icon-database'></use></svg></label><div class='xr-var-attrs'><dl class='xr-attrs'></dl></div><pre class='xr-var-data'>array([[[False, False],\n",
       "        [False, False],\n",
       "        [False, False],\n",
       "        ...,\n",
       "        [False, False],\n",
       "        [False, False],\n",
       "        [False, False]],\n",
       "\n",
       "       [[False, False],\n",
       "        [False, False],\n",
       "        [False, False],\n",
       "        ...,\n",
       "        [False, False],\n",
       "        [False, False],\n",
       "        [False, False]],\n",
       "\n",
       "       [[False, False],\n",
       "        [False, False],\n",
       "        [False, False],\n",
       "        ...,\n",
       "        [False, False],\n",
       "        [False, False],\n",
       "        [False, False]],\n",
       "\n",
       "       ...,\n",
       "\n",
       "       [[False, False],\n",
       "        [False, False],\n",
       "        [False, False],\n",
       "        ...,\n",
       "        [False, False],\n",
       "        [False, False],\n",
       "        [False, False]],\n",
       "\n",
       "       [[False, False],\n",
       "        [False, False],\n",
       "        [False, False],\n",
       "        ...,\n",
       "        [False, False],\n",
       "        [False, False],\n",
       "        [False, False]],\n",
       "\n",
       "       [[False, False],\n",
       "        [False, False],\n",
       "        [False, False],\n",
       "        ...,\n",
       "        [False, False],\n",
       "        [False, False],\n",
       "        [False, False]]])</pre></li></ul></div></li><li class='xr-section-item'><input id='section-a86f4a9b-9a3d-446b-9330-e56ed78f2387' class='xr-section-summary-in' type='checkbox'  checked><label for='section-a86f4a9b-9a3d-446b-9330-e56ed78f2387' class='xr-section-summary' >Attributes: <span>(1)</span></label><div class='xr-section-inline-details'></div><div class='xr-section-details'><dl class='xr-attrs'><dt><span>contigs :</span></dt><dd>[&#x27;3R&#x27;]</dd></dl></div></li></ul></div></div>"
      ],
      "text/plain": [
       "<xarray.Dataset>\n",
       "Dimensions:             (alleles: 2, ploidy: 2, samples: 1142, variants: 10000)\n",
       "Dimensions without coordinates: alleles, ploidy, samples, variants\n",
       "Data variables:\n",
       "    variant/contig      (variants) int64 0 0 0 0 0 0 0 0 0 ... 0 0 0 0 0 0 0 0 0\n",
       "    variant/position    (variants) int32 9526 9531 9536 ... 64411 64416 64418\n",
       "    variant/alleles     (variants, alleles) |S1 b'A' b'G' b'A' ... b'T' b'C'\n",
       "    sample/id           (samples) <U8 'AA0040-C' 'AA0041-C' ... 'AY0091-C'\n",
       "    call/genotype       (variants, samples, ploidy) int8 0 0 0 0 0 ... 0 0 0 0 0\n",
       "    call/genotype_mask  (variants, samples, ploidy) bool False False ... False\n",
       "Attributes:\n",
       "    contigs:  ['3R']"
      ]
     },
     "execution_count": 22,
     "metadata": {},
     "output_type": "execute_result"
    }
   ],
   "source": [
    "genotype_xarray_dataset"
   ]
  }
 ],
 "metadata": {
  "kernelspec": {
   "display_name": "Python [conda env:root] *",
   "language": "python",
   "name": "conda-root-py"
  },
  "language_info": {
   "codemirror_mode": {
    "name": "ipython",
    "version": 3
   },
   "file_extension": ".py",
   "mimetype": "text/x-python",
   "name": "python",
   "nbconvert_exporter": "python",
   "pygments_lexer": "ipython3",
   "version": "3.7.6"
  }
 },
 "nbformat": 4,
 "nbformat_minor": 4
}
